{
 "cells": [
  {
   "cell_type": "code",
   "execution_count": 1,
   "metadata": {
    "scrolled": true
   },
   "outputs": [],
   "source": [
    "import pandas as pd\n",
    "import numpy as np\n",
    "import matplotlib.pyplot as plt\n",
    "from scipy import stats\n",
    "from datetime import datetime\n",
    "import seaborn as sns  \n",
    "from os.path import join\n",
    "from pprint import pprint\n",
    "import reverse_geocoder as rg\n",
    "from geopy.distance import geodesic\n",
    "#Abdullah Özgür İdiş, 20825"
   ]
  },
  {
   "cell_type": "code",
   "execution_count": 2,
   "metadata": {
    "scrolled": false
   },
   "outputs": [
    {
     "data": {
      "text/html": [
       "<div>\n",
       "<style scoped>\n",
       "    .dataframe tbody tr th:only-of-type {\n",
       "        vertical-align: middle;\n",
       "    }\n",
       "\n",
       "    .dataframe tbody tr th {\n",
       "        vertical-align: top;\n",
       "    }\n",
       "\n",
       "    .dataframe thead th {\n",
       "        text-align: right;\n",
       "    }\n",
       "</style>\n",
       "<table border=\"1\" class=\"dataframe\">\n",
       "  <thead>\n",
       "    <tr style=\"text-align: right;\">\n",
       "      <th></th>\n",
       "      <th>id</th>\n",
       "      <th>vendor_id</th>\n",
       "      <th>pickup_datetime</th>\n",
       "      <th>dropoff_datetime</th>\n",
       "      <th>passenger_count</th>\n",
       "      <th>pickup_longitude</th>\n",
       "      <th>pickup_latitude</th>\n",
       "      <th>dropoff_longitude</th>\n",
       "      <th>dropoff_latitude</th>\n",
       "      <th>store_and_fwd_flag</th>\n",
       "      <th>trip_duration</th>\n",
       "    </tr>\n",
       "  </thead>\n",
       "  <tbody>\n",
       "    <tr>\n",
       "      <th>0</th>\n",
       "      <td>id2875421</td>\n",
       "      <td>2</td>\n",
       "      <td>2016-03-14 17:24:55</td>\n",
       "      <td>2016-03-14 17:32:30</td>\n",
       "      <td>1</td>\n",
       "      <td>-73.982155</td>\n",
       "      <td>40.767937</td>\n",
       "      <td>-73.964630</td>\n",
       "      <td>40.765602</td>\n",
       "      <td>N</td>\n",
       "      <td>455</td>\n",
       "    </tr>\n",
       "    <tr>\n",
       "      <th>1</th>\n",
       "      <td>id0012891</td>\n",
       "      <td>2</td>\n",
       "      <td>2016-03-10 21:45:01</td>\n",
       "      <td>2016-03-10 22:05:26</td>\n",
       "      <td>1</td>\n",
       "      <td>-73.981049</td>\n",
       "      <td>40.744339</td>\n",
       "      <td>-73.973000</td>\n",
       "      <td>40.789989</td>\n",
       "      <td>N</td>\n",
       "      <td>1225</td>\n",
       "    </tr>\n",
       "    <tr>\n",
       "      <th>2</th>\n",
       "      <td>id3361153</td>\n",
       "      <td>1</td>\n",
       "      <td>2016-03-11 07:11:23</td>\n",
       "      <td>2016-03-11 07:20:09</td>\n",
       "      <td>1</td>\n",
       "      <td>-73.994560</td>\n",
       "      <td>40.750526</td>\n",
       "      <td>-73.978500</td>\n",
       "      <td>40.756191</td>\n",
       "      <td>N</td>\n",
       "      <td>526</td>\n",
       "    </tr>\n",
       "    <tr>\n",
       "      <th>3</th>\n",
       "      <td>id2129090</td>\n",
       "      <td>1</td>\n",
       "      <td>2016-03-14 14:05:39</td>\n",
       "      <td>2016-03-14 14:28:05</td>\n",
       "      <td>1</td>\n",
       "      <td>-73.975090</td>\n",
       "      <td>40.758766</td>\n",
       "      <td>-73.953201</td>\n",
       "      <td>40.765068</td>\n",
       "      <td>N</td>\n",
       "      <td>1346</td>\n",
       "    </tr>\n",
       "    <tr>\n",
       "      <th>4</th>\n",
       "      <td>id0256505</td>\n",
       "      <td>1</td>\n",
       "      <td>2016-03-14 15:04:38</td>\n",
       "      <td>2016-03-14 15:16:13</td>\n",
       "      <td>1</td>\n",
       "      <td>-73.994484</td>\n",
       "      <td>40.745087</td>\n",
       "      <td>-73.998993</td>\n",
       "      <td>40.722710</td>\n",
       "      <td>N</td>\n",
       "      <td>695</td>\n",
       "    </tr>\n",
       "  </tbody>\n",
       "</table>\n",
       "</div>"
      ],
      "text/plain": [
       "          id  vendor_id      pickup_datetime     dropoff_datetime  \\\n",
       "0  id2875421          2  2016-03-14 17:24:55  2016-03-14 17:32:30   \n",
       "1  id0012891          2  2016-03-10 21:45:01  2016-03-10 22:05:26   \n",
       "2  id3361153          1  2016-03-11 07:11:23  2016-03-11 07:20:09   \n",
       "3  id2129090          1  2016-03-14 14:05:39  2016-03-14 14:28:05   \n",
       "4  id0256505          1  2016-03-14 15:04:38  2016-03-14 15:16:13   \n",
       "\n",
       "   passenger_count  pickup_longitude  pickup_latitude  dropoff_longitude  \\\n",
       "0                1        -73.982155        40.767937         -73.964630   \n",
       "1                1        -73.981049        40.744339         -73.973000   \n",
       "2                1        -73.994560        40.750526         -73.978500   \n",
       "3                1        -73.975090        40.758766         -73.953201   \n",
       "4                1        -73.994484        40.745087         -73.998993   \n",
       "\n",
       "   dropoff_latitude store_and_fwd_flag  trip_duration  \n",
       "0         40.765602                  N            455  \n",
       "1         40.789989                  N           1225  \n",
       "2         40.756191                  N            526  \n",
       "3         40.765068                  N           1346  \n",
       "4         40.722710                  N            695  "
      ]
     },
     "execution_count": 2,
     "metadata": {},
     "output_type": "execute_result"
    }
   ],
   "source": [
    "sns.set(style=\"darkgrid\")\n",
    "file=\"taxi-trips.csv\"\n",
    "\n",
    "df=pd.read_csv(file)\n",
    "df.head()#column names can be seen here.\n"
   ]
  },
  {
   "cell_type": "code",
   "execution_count": 3,
   "metadata": {},
   "outputs": [
    {
     "data": {
      "text/plain": [
       "id                     object\n",
       "vendor_id               int64\n",
       "pickup_datetime        object\n",
       "dropoff_datetime       object\n",
       "passenger_count         int64\n",
       "pickup_longitude      float64\n",
       "pickup_latitude       float64\n",
       "dropoff_longitude     float64\n",
       "dropoff_latitude      float64\n",
       "store_and_fwd_flag     object\n",
       "trip_duration           int64\n",
       "dtype: object"
      ]
     },
     "execution_count": 3,
     "metadata": {},
     "output_type": "execute_result"
    }
   ],
   "source": [
    "df.dtypes #data types"
   ]
  },
  {
   "cell_type": "code",
   "execution_count": 4,
   "metadata": {},
   "outputs": [
    {
     "name": "stdout",
     "output_type": "stream",
     "text": [
      "number of rows : \n",
      "118185\n",
      "\n",
      "number of columns :\n",
      "11\n"
     ]
    }
   ],
   "source": [
    "row,col=df.shape\n",
    "#number of rows and columns\n",
    "print (\"number of rows : \" + \"\\n\" + str(row) + \"\\n\" )\n",
    "print (\"number of columns :\" + \"\\n\" + str(col))"
   ]
  },
  {
   "cell_type": "code",
   "execution_count": 5,
   "metadata": {},
   "outputs": [
    {
     "name": "stdout",
     "output_type": "stream",
     "text": [
      "Loading formatted geocoded file...\n"
     ]
    }
   ],
   "source": [
    "dfc=df.copy()\n",
    "pickd=dfc[[\"pickup_latitude\",\"pickup_longitude\"]].values\n",
    "temp=[]\n",
    "for i in pickd:\n",
    "    temp.append(tuple(i))\n",
    "\n",
    "res = rg.search(temp)\n",
    "\n",
    "temp2=[]\n",
    "\n",
    "for j in res:\n",
    "    temp2.append(j[\"name\"]) # admin2 may return whitespaces so I search for name instead.\n",
    "    \n",
    "df[\"pickup_district\"]=temp2"
   ]
  },
  {
   "cell_type": "code",
   "execution_count": 6,
   "metadata": {
    "scrolled": true
   },
   "outputs": [],
   "source": [
    "dfc=df.copy()\n",
    "dropd=dfc[[\"dropoff_latitude\",\"dropoff_longitude\"]].values\n",
    "tmp=[]\n",
    "for i in dropd:\n",
    "    tmp.append(tuple(i))\n",
    "    \n",
    "res = rg.search(tmp)\n",
    "\n",
    "tmp2=[]\n",
    "\n",
    "for j in res:\n",
    "    tmp2.append(j[\"name\"])# admin2 may return whitespaces so I search for name instead.\n",
    "df[\"dropoff_district\"]=tmp2"
   ]
  },
  {
   "cell_type": "code",
   "execution_count": 7,
   "metadata": {
    "scrolled": true
   },
   "outputs": [
    {
     "name": "stdout",
     "output_type": "stream",
     "text": [
      "Top 5 preffered pickup districts are shown below: \n",
      "\n"
     ]
    },
    {
     "data": {
      "text/plain": [
       "<matplotlib.axes._subplots.AxesSubplot at 0x2255f5fd588>"
      ]
     },
     "execution_count": 7,
     "metadata": {},
     "output_type": "execute_result"
    },
    {
     "data": {
      "image/png": "[encoded data removed]",
      "text/plain": [
       "<Figure size 432x288 with 1 Axes>"
      ]
     },
     "metadata": {},
     "output_type": "display_data"
    }
   ],
   "source": [
    "pdf = df[\"pickup_district\"]\n",
    "ddf = df[\"dropoff_district\"]\n",
    "\n",
    "print(\"Top 5 preffered pickup districts are shown below: \\n\")\n",
    "plt.xlabel(\"Number of times the district preffered\")\n",
    "plt.ylabel(\"Discticts\")\n",
    "pdf.value_counts().nlargest(5).plot(kind = \"barh\")\n",
    "\n",
    "#plotting the most popular pickup districts"
   ]
  },
  {
   "cell_type": "code",
   "execution_count": 8,
   "metadata": {
    "scrolled": true
   },
   "outputs": [
    {
     "name": "stdout",
     "output_type": "stream",
     "text": [
      "Top 5 preffered dropoff districts are shown below: \n",
      "\n"
     ]
    },
    {
     "data": {
      "text/plain": [
       "<matplotlib.axes._subplots.AxesSubplot at 0x22550f5c9e8>"
      ]
     },
     "execution_count": 8,
     "metadata": {},
     "output_type": "execute_result"
    },
    {
     "data": {
      "image/png": "[encoded data removed]",
      "text/plain": [
       "<Figure size 432x288 with 1 Axes>"
      ]
     },
     "metadata": {},
     "output_type": "display_data"
    }
   ],
   "source": [
    "print(\"Top 5 preffered dropoff districts are shown below: \\n\")\n",
    "plt.xlabel(\"Number of times the district preffered\")\n",
    "plt.ylabel(\"Discticts\")\n",
    "ddf.value_counts().nlargest(5).plot(kind = \"barh\")\n",
    "#plotting the most popular dropoff districts"
   ]
  },
  {
   "cell_type": "code",
   "execution_count": 9,
   "metadata": {
    "scrolled": true
   },
   "outputs": [
    {
     "data": {
      "text/html": [
       "<div>\n",
       "<style scoped>\n",
       "    .dataframe tbody tr th:only-of-type {\n",
       "        vertical-align: middle;\n",
       "    }\n",
       "\n",
       "    .dataframe tbody tr th {\n",
       "        vertical-align: top;\n",
       "    }\n",
       "\n",
       "    .dataframe thead th {\n",
       "        text-align: right;\n",
       "    }\n",
       "</style>\n",
       "<table border=\"1\" class=\"dataframe\">\n",
       "  <thead>\n",
       "    <tr style=\"text-align: right;\">\n",
       "      <th></th>\n",
       "      <th>id</th>\n",
       "      <th>vendor_id</th>\n",
       "      <th>pickup_datetime</th>\n",
       "      <th>dropoff_datetime</th>\n",
       "      <th>passenger_count</th>\n",
       "      <th>pickup_longitude</th>\n",
       "      <th>pickup_latitude</th>\n",
       "      <th>dropoff_longitude</th>\n",
       "      <th>dropoff_latitude</th>\n",
       "      <th>store_and_fwd_flag</th>\n",
       "      <th>trip_duration</th>\n",
       "      <th>pickup_district</th>\n",
       "      <th>dropoff_district</th>\n",
       "      <th>distance</th>\n",
       "    </tr>\n",
       "  </thead>\n",
       "  <tbody>\n",
       "    <tr>\n",
       "      <th>0</th>\n",
       "      <td>id2875421</td>\n",
       "      <td>2</td>\n",
       "      <td>2016-03-14 17:24:55</td>\n",
       "      <td>2016-03-14 17:32:30</td>\n",
       "      <td>1</td>\n",
       "      <td>-73.982155</td>\n",
       "      <td>40.767937</td>\n",
       "      <td>-73.964630</td>\n",
       "      <td>40.765602</td>\n",
       "      <td>N</td>\n",
       "      <td>455</td>\n",
       "      <td>Manhattan</td>\n",
       "      <td>Manhattan</td>\n",
       "      <td>0.933406</td>\n",
       "    </tr>\n",
       "    <tr>\n",
       "      <th>1</th>\n",
       "      <td>id0012891</td>\n",
       "      <td>2</td>\n",
       "      <td>2016-03-10 21:45:01</td>\n",
       "      <td>2016-03-10 22:05:26</td>\n",
       "      <td>1</td>\n",
       "      <td>-73.981049</td>\n",
       "      <td>40.744339</td>\n",
       "      <td>-73.973000</td>\n",
       "      <td>40.789989</td>\n",
       "      <td>N</td>\n",
       "      <td>1225</td>\n",
       "      <td>Long Island City</td>\n",
       "      <td>Manhattan</td>\n",
       "      <td>3.178194</td>\n",
       "    </tr>\n",
       "    <tr>\n",
       "      <th>2</th>\n",
       "      <td>id3361153</td>\n",
       "      <td>1</td>\n",
       "      <td>2016-03-11 07:11:23</td>\n",
       "      <td>2016-03-11 07:20:09</td>\n",
       "      <td>1</td>\n",
       "      <td>-73.994560</td>\n",
       "      <td>40.750526</td>\n",
       "      <td>-73.978500</td>\n",
       "      <td>40.756191</td>\n",
       "      <td>N</td>\n",
       "      <td>526</td>\n",
       "      <td>Weehawken</td>\n",
       "      <td>Manhattan</td>\n",
       "      <td>0.928961</td>\n",
       "    </tr>\n",
       "    <tr>\n",
       "      <th>3</th>\n",
       "      <td>id2129090</td>\n",
       "      <td>1</td>\n",
       "      <td>2016-03-14 14:05:39</td>\n",
       "      <td>2016-03-14 14:28:05</td>\n",
       "      <td>1</td>\n",
       "      <td>-73.975090</td>\n",
       "      <td>40.758766</td>\n",
       "      <td>-73.953201</td>\n",
       "      <td>40.765068</td>\n",
       "      <td>N</td>\n",
       "      <td>1346</td>\n",
       "      <td>Manhattan</td>\n",
       "      <td>Long Island City</td>\n",
       "      <td>1.228003</td>\n",
       "    </tr>\n",
       "    <tr>\n",
       "      <th>4</th>\n",
       "      <td>id0256505</td>\n",
       "      <td>1</td>\n",
       "      <td>2016-03-14 15:04:38</td>\n",
       "      <td>2016-03-14 15:16:13</td>\n",
       "      <td>1</td>\n",
       "      <td>-73.994484</td>\n",
       "      <td>40.745087</td>\n",
       "      <td>-73.998993</td>\n",
       "      <td>40.722710</td>\n",
       "      <td>N</td>\n",
       "      <td>695</td>\n",
       "      <td>New York City</td>\n",
       "      <td>New York City</td>\n",
       "      <td>1.562103</td>\n",
       "    </tr>\n",
       "  </tbody>\n",
       "</table>\n",
       "</div>"
      ],
      "text/plain": [
       "          id  vendor_id      pickup_datetime     dropoff_datetime  \\\n",
       "0  id2875421          2  2016-03-14 17:24:55  2016-03-14 17:32:30   \n",
       "1  id0012891          2  2016-03-10 21:45:01  2016-03-10 22:05:26   \n",
       "2  id3361153          1  2016-03-11 07:11:23  2016-03-11 07:20:09   \n",
       "3  id2129090          1  2016-03-14 14:05:39  2016-03-14 14:28:05   \n",
       "4  id0256505          1  2016-03-14 15:04:38  2016-03-14 15:16:13   \n",
       "\n",
       "   passenger_count  pickup_longitude  pickup_latitude  dropoff_longitude  \\\n",
       "0                1        -73.982155        40.767937         -73.964630   \n",
       "1                1        -73.981049        40.744339         -73.973000   \n",
       "2                1        -73.994560        40.750526         -73.978500   \n",
       "3                1        -73.975090        40.758766         -73.953201   \n",
       "4                1        -73.994484        40.745087         -73.998993   \n",
       "\n",
       "   dropoff_latitude store_and_fwd_flag  trip_duration   pickup_district  \\\n",
       "0         40.765602                  N            455         Manhattan   \n",
       "1         40.789989                  N           1225  Long Island City   \n",
       "2         40.756191                  N            526         Weehawken   \n",
       "3         40.765068                  N           1346         Manhattan   \n",
       "4         40.722710                  N            695     New York City   \n",
       "\n",
       "   dropoff_district  distance  \n",
       "0         Manhattan  0.933406  \n",
       "1         Manhattan  3.178194  \n",
       "2         Manhattan  0.928961  \n",
       "3  Long Island City  1.228003  \n",
       "4     New York City  1.562103  "
      ]
     },
     "execution_count": 9,
     "metadata": {},
     "output_type": "execute_result"
    }
   ],
   "source": [
    "#calculating the distance from pickup and dropoff coordinations\n",
    "dist = []\n",
    "picklist = pickd\n",
    "droplist= dropd\n",
    "for i in range(len(picklist)):\n",
    "    distance = geodesic(picklist[i], droplist[i]).miles\n",
    "    dist.append(distance)\n",
    "\n",
    "df[\"distance\"] = dist\n",
    "\n",
    "df.head()"
   ]
  },
  {
   "cell_type": "code",
   "execution_count": 10,
   "metadata": {
    "scrolled": true
   },
   "outputs": [
    {
     "data": {
      "text/plain": [
       "<matplotlib.axes._subplots.AxesSubplot at 0x2256191c4e0>"
      ]
     },
     "execution_count": 10,
     "metadata": {},
     "output_type": "execute_result"
    },
    {
     "data": {
      "image/png": "[encoded data removed]",
      "text/plain": [
       "<Figure size 432x288 with 1 Axes>"
      ]
     },
     "metadata": {},
     "output_type": "display_data"
    }
   ],
   "source": [
    "# the time of day \n",
    "\n",
    "timeofday = []\n",
    "\n",
    "for i in range(len(df[\"pickup_datetime\"])):\n",
    "    start_index = df[\"pickup_datetime\"][i].find(\":\")-2\n",
    "    time = df[\"pickup_datetime\"][i][start_index:len(df[\"pickup_datetime\"][i])]\n",
    "    timeofday.append(time)\n",
    "    \n",
    "param = \" \"\n",
    "    \n",
    "def sort_time(param):\n",
    "    if(\"07:00:00\"<=param<\"09:00:00\"):\n",
    "        return \"rush hour morning\"\n",
    "    elif(\"09:00:00\"<=param<\"16:00:00\"):\n",
    "        return \"afternoon\"\n",
    "    elif(\"16:00:00\"<=my_param<\"18:00:00\"):\n",
    "        return \"rush hour evening\"\n",
    "    elif(\"18:00:00\"<=param<\"23:00:00\"):\n",
    "        return \"evening\"\n",
    "    else:return \"latenight\"\n",
    "\n",
    "time_of_day = list()\n",
    "\n",
    "for i in range(len(timeofday)):\n",
    "    if(sort_time(timeofday[i])==\"rush hour morning\"):\n",
    "        time_of_day.append(\"rush hour morning\")\n",
    "    elif(sort_time(timeofday[i])==\"afternoon\"):\n",
    "        time_of_day.append(\"afternoon\")\n",
    "    elif(sort_time(timeofday[i])==\"rush hour evening\"):\n",
    "        time_of_day.append(\"rush hour evening\")\n",
    "    elif(sort_time(timeofday[i])==\"evening\"):\n",
    "        time_of_day.append(\"evening\")\n",
    "    elif(sort_time(timeofday[i])==\"latenight\"):\n",
    "        time_of_day.append(\"latenight\")\n",
    "        \n",
    "df[\"time_of_day\"] = time_of_day\n",
    "\n",
    "tod_group = df.groupby(by=\"time_of_day\") # distance(in miles) vs time of day\n",
    "meanby_distance = tod_group[\"distance\"].mean()\n",
    "plt.xlabel(\"Average in Miles\")\n",
    "meanby_distance.plot(kind=\"barh\")\n",
    "#plotting the relation between time of day and trip distance"
   ]
  },
  {
   "cell_type": "code",
   "execution_count": 11,
   "metadata": {
    "scrolled": true
   },
   "outputs": [
    {
     "data": {
      "text/plain": [
       "<matplotlib.axes._subplots.AxesSubplot at 0x22561964fd0>"
      ]
     },
     "execution_count": 11,
     "metadata": {},
     "output_type": "execute_result"
    },
    {
     "data": {
      "image/png": "[encoded data removed]",
      "text/plain": [
       "<Figure size 432x288 with 1 Axes>"
      ]
     },
     "metadata": {},
     "output_type": "display_data"
    }
   ],
   "source": [
    "tod_group = df.groupby(by=\"time_of_day\")\n",
    "duration = tod_group[\"trip_duration\"].mean()\n",
    "plt.xlabel(\"Mean of trip duration in seconds\")\n",
    "duration.plot(kind=\"barh\")\n",
    "#plotting the relation between time of day and trip duration"
   ]
  },
  {
   "cell_type": "code",
   "execution_count": 12,
   "metadata": {},
   "outputs": [
    {
     "data": {
      "text/plain": [
       "Text(0, 0.5, 'Average Distance')"
      ]
     },
     "execution_count": 12,
     "metadata": {},
     "output_type": "execute_result"
    },
    {
     "data": {
      "image/png": "[encoded data removed]",
      "text/plain": [
       "<Figure size 432x288 with 1 Axes>"
      ]
     },
     "metadata": {},
     "output_type": "display_data"
    }
   ],
   "source": [
    "#null hypothesis 1\n",
    "# drop rows where passenger_count is 0\n",
    "df[\"passenger_count\"].unique()\n",
    "df = df[df[\"passenger_count\"] >= 1]\n",
    "\n",
    "pass_group= df.groupby(by=\"passenger_count\")\n",
    "pass_group[\"distance\"].mean() \n",
    "\n",
    "pass_group[\"distance\"].mean().plot(kind=\"bar\")\n",
    "plt.ylabel(\"Average Distance\")"
   ]
  },
  {
   "cell_type": "code",
   "execution_count": 37,
   "metadata": {
    "scrolled": true
   },
   "outputs": [
    {
     "data": {
      "image/png": "[encoded data removed]",
      "text/plain": [
       "<Figure size 864x432 with 1 Axes>"
      ]
     },
     "metadata": {},
     "output_type": "display_data"
    }
   ],
   "source": [
    "test = \"distance\"\n",
    "# differentiating the subsamples with passenger numbers\n",
    "sizeof_1 = df[df[\"passenger_count\"] == 1][test] \n",
    "sizeof_n1 = df[df[\"passenger_count\"] > 1 ][test]\n",
    "\n",
    "\n",
    "fig, ax = plt.subplots(1,1,figsize=(12,6))\n",
    "\n",
    "sns.kdeplot(sizeof_1, shade=True, label=\"sample_1\", ax=ax, color=\"b\")\n",
    "sns.kdeplot(sizeof_n1, shade=False, label=\"sample_2\", ax=ax, color=\"r\")\n",
    "\n",
    "plt.title(\"Distance Distribution\")\n",
    "plt.show()"
   ]
  },
  {
   "cell_type": "code",
   "execution_count": 38,
   "metadata": {},
   "outputs": [
    {
     "data": {
      "text/plain": [
       "F_onewayResult(statistic=24.56439528437676, pvalue=7.196658293701785e-07)"
      ]
     },
     "execution_count": 38,
     "metadata": {},
     "output_type": "execute_result"
    }
   ],
   "source": [
    "stats.f_oneway(sizeof_1, sizeof_n1) \n",
    "#to get the p value, to be compared with 0.05\n",
    "#if pval > 0.05\n",
    "#hypothesis is true\n",
    "#else its false"
   ]
  },
  {
   "cell_type": "code",
   "execution_count": 15,
   "metadata": {},
   "outputs": [],
   "source": [
    "#since pval is much smaller than 0.05, we reject the hypothesis\n",
    "#passenger group size has no effect on the distance."
   ]
  },
  {
   "cell_type": "code",
   "execution_count": 19,
   "metadata": {},
   "outputs": [
    {
     "name": "stderr",
     "output_type": "stream",
     "text": [
      "C:\\Users\\Oden\\Anaconda3\\lib\\site-packages\\ipykernel_launcher.py:2: SettingWithCopyWarning: \n",
      "A value is trying to be set on a copy of a slice from a DataFrame.\n",
      "Try using .loc[row_indexer,col_indexer] = value instead\n",
      "\n",
      "See the caveats in the documentation: http://pandas.pydata.org/pandas-docs/stable/indexing.html#indexing-view-versus-copy\n",
      "  \n",
      "C:\\Users\\Oden\\Anaconda3\\lib\\site-packages\\ipykernel_launcher.py:24: SettingWithCopyWarning: \n",
      "A value is trying to be set on a copy of a slice from a DataFrame.\n",
      "Try using .loc[row_indexer,col_indexer] = value instead\n",
      "\n",
      "See the caveats in the documentation: http://pandas.pydata.org/pandas-docs/stable/indexing.html#indexing-view-versus-copy\n"
     ]
    },
    {
     "data": {
      "text/html": [
       "<div>\n",
       "<style scoped>\n",
       "    .dataframe tbody tr th:only-of-type {\n",
       "        vertical-align: middle;\n",
       "    }\n",
       "\n",
       "    .dataframe tbody tr th {\n",
       "        vertical-align: top;\n",
       "    }\n",
       "\n",
       "    .dataframe thead th {\n",
       "        text-align: right;\n",
       "    }\n",
       "</style>\n",
       "<table border=\"1\" class=\"dataframe\">\n",
       "  <thead>\n",
       "    <tr style=\"text-align: right;\">\n",
       "      <th></th>\n",
       "      <th>id</th>\n",
       "      <th>vendor_id</th>\n",
       "      <th>pickup_datetime</th>\n",
       "      <th>dropoff_datetime</th>\n",
       "      <th>passenger_count</th>\n",
       "      <th>pickup_longitude</th>\n",
       "      <th>pickup_latitude</th>\n",
       "      <th>dropoff_longitude</th>\n",
       "      <th>dropoff_latitude</th>\n",
       "      <th>store_and_fwd_flag</th>\n",
       "      <th>trip_duration</th>\n",
       "      <th>pickup_district</th>\n",
       "      <th>dropoff_district</th>\n",
       "      <th>distance</th>\n",
       "      <th>time_of_day</th>\n",
       "      <th>Week_Days</th>\n",
       "      <th>weekday</th>\n",
       "    </tr>\n",
       "  </thead>\n",
       "  <tbody>\n",
       "    <tr>\n",
       "      <th>0</th>\n",
       "      <td>id2875421</td>\n",
       "      <td>2</td>\n",
       "      <td>2016-03-14 17:24:55</td>\n",
       "      <td>2016-03-14 17:32:30</td>\n",
       "      <td>1</td>\n",
       "      <td>-73.982155</td>\n",
       "      <td>40.767937</td>\n",
       "      <td>-73.964630</td>\n",
       "      <td>40.765602</td>\n",
       "      <td>N</td>\n",
       "      <td>455</td>\n",
       "      <td>Manhattan</td>\n",
       "      <td>Manhattan</td>\n",
       "      <td>0.933406</td>\n",
       "      <td>rush hour evening</td>\n",
       "      <td>Monday</td>\n",
       "      <td>Monday</td>\n",
       "    </tr>\n",
       "    <tr>\n",
       "      <th>1</th>\n",
       "      <td>id0012891</td>\n",
       "      <td>2</td>\n",
       "      <td>2016-03-10 21:45:01</td>\n",
       "      <td>2016-03-10 22:05:26</td>\n",
       "      <td>1</td>\n",
       "      <td>-73.981049</td>\n",
       "      <td>40.744339</td>\n",
       "      <td>-73.973000</td>\n",
       "      <td>40.789989</td>\n",
       "      <td>N</td>\n",
       "      <td>1225</td>\n",
       "      <td>Long Island City</td>\n",
       "      <td>Manhattan</td>\n",
       "      <td>3.178194</td>\n",
       "      <td>evening</td>\n",
       "      <td>Thursday</td>\n",
       "      <td>Thursday</td>\n",
       "    </tr>\n",
       "    <tr>\n",
       "      <th>2</th>\n",
       "      <td>id3361153</td>\n",
       "      <td>1</td>\n",
       "      <td>2016-03-11 07:11:23</td>\n",
       "      <td>2016-03-11 07:20:09</td>\n",
       "      <td>1</td>\n",
       "      <td>-73.994560</td>\n",
       "      <td>40.750526</td>\n",
       "      <td>-73.978500</td>\n",
       "      <td>40.756191</td>\n",
       "      <td>N</td>\n",
       "      <td>526</td>\n",
       "      <td>Weehawken</td>\n",
       "      <td>Manhattan</td>\n",
       "      <td>0.928961</td>\n",
       "      <td>rush hour morning</td>\n",
       "      <td>Friday</td>\n",
       "      <td>Friday</td>\n",
       "    </tr>\n",
       "    <tr>\n",
       "      <th>3</th>\n",
       "      <td>id2129090</td>\n",
       "      <td>1</td>\n",
       "      <td>2016-03-14 14:05:39</td>\n",
       "      <td>2016-03-14 14:28:05</td>\n",
       "      <td>1</td>\n",
       "      <td>-73.975090</td>\n",
       "      <td>40.758766</td>\n",
       "      <td>-73.953201</td>\n",
       "      <td>40.765068</td>\n",
       "      <td>N</td>\n",
       "      <td>1346</td>\n",
       "      <td>Manhattan</td>\n",
       "      <td>Long Island City</td>\n",
       "      <td>1.228003</td>\n",
       "      <td>afternoon</td>\n",
       "      <td>Monday</td>\n",
       "      <td>Monday</td>\n",
       "    </tr>\n",
       "    <tr>\n",
       "      <th>4</th>\n",
       "      <td>id0256505</td>\n",
       "      <td>1</td>\n",
       "      <td>2016-03-14 15:04:38</td>\n",
       "      <td>2016-03-14 15:16:13</td>\n",
       "      <td>1</td>\n",
       "      <td>-73.994484</td>\n",
       "      <td>40.745087</td>\n",
       "      <td>-73.998993</td>\n",
       "      <td>40.722710</td>\n",
       "      <td>N</td>\n",
       "      <td>695</td>\n",
       "      <td>New York City</td>\n",
       "      <td>New York City</td>\n",
       "      <td>1.562103</td>\n",
       "      <td>afternoon</td>\n",
       "      <td>Monday</td>\n",
       "      <td>Monday</td>\n",
       "    </tr>\n",
       "  </tbody>\n",
       "</table>\n",
       "</div>"
      ],
      "text/plain": [
       "          id  vendor_id     pickup_datetime     dropoff_datetime  \\\n",
       "0  id2875421          2 2016-03-14 17:24:55  2016-03-14 17:32:30   \n",
       "1  id0012891          2 2016-03-10 21:45:01  2016-03-10 22:05:26   \n",
       "2  id3361153          1 2016-03-11 07:11:23  2016-03-11 07:20:09   \n",
       "3  id2129090          1 2016-03-14 14:05:39  2016-03-14 14:28:05   \n",
       "4  id0256505          1 2016-03-14 15:04:38  2016-03-14 15:16:13   \n",
       "\n",
       "   passenger_count  pickup_longitude  pickup_latitude  dropoff_longitude  \\\n",
       "0                1        -73.982155        40.767937         -73.964630   \n",
       "1                1        -73.981049        40.744339         -73.973000   \n",
       "2                1        -73.994560        40.750526         -73.978500   \n",
       "3                1        -73.975090        40.758766         -73.953201   \n",
       "4                1        -73.994484        40.745087         -73.998993   \n",
       "\n",
       "   dropoff_latitude store_and_fwd_flag  trip_duration   pickup_district  \\\n",
       "0         40.765602                  N            455         Manhattan   \n",
       "1         40.789989                  N           1225  Long Island City   \n",
       "2         40.756191                  N            526         Weehawken   \n",
       "3         40.765068                  N           1346         Manhattan   \n",
       "4         40.722710                  N            695     New York City   \n",
       "\n",
       "   dropoff_district  distance        time_of_day Week_Days   weekday  \n",
       "0         Manhattan  0.933406  rush hour evening    Monday    Monday  \n",
       "1         Manhattan  3.178194            evening  Thursday  Thursday  \n",
       "2         Manhattan  0.928961  rush hour morning    Friday    Friday  \n",
       "3  Long Island City  1.228003          afternoon    Monday    Monday  \n",
       "4     New York City  1.562103          afternoon    Monday    Monday  "
      ]
     },
     "execution_count": 19,
     "metadata": {},
     "output_type": "execute_result"
    }
   ],
   "source": [
    "#null hypothesis 2 \n",
    "df[\"pickup_datetime\"] = pd.to_datetime(df[\"pickup_datetime\"]) # datetime conversion\n",
    "\n",
    "dow = df[\"pickup_datetime\"].dt.weekday_name # returns days of week \n",
    "\n",
    "weekday = []\n",
    "\n",
    "for i in dow:\n",
    "    if(i==\"Monday\"):\n",
    "        weekday.append(\"Monday\")\n",
    "    elif(i==\"Tuesday\"):\n",
    "        weekday.append(\"Tuesday\")\n",
    "    elif(i==\"Wednesday\"):\n",
    "        weekday.append(\"Wednesday\")\n",
    "    elif(i==\"Thursday\"):\n",
    "        weekday.append(\"Thursday\")\n",
    "    elif(i==\"Friday\"):\n",
    "        weekday.append(\"Friday\")\n",
    "    elif(i==\"Saturday\"):\n",
    "        weekday.append(\"Saturday\")\n",
    "    else:\n",
    "        weekday.append(\"Sunday\")\n",
    "        \n",
    "df[\"weekday\"] = weekday #will be cleared out from csv file.\n",
    "df.head()"
   ]
  },
  {
   "cell_type": "code",
   "execution_count": 20,
   "metadata": {
    "scrolled": false
   },
   "outputs": [
    {
     "data": {
      "image/png": "[encoded data removed]",
      "text/plain": [
       "<Figure size 432x288 with 1 Axes>"
      ]
     },
     "metadata": {},
     "output_type": "display_data"
    }
   ],
   "source": [
    "fig, ax = plt.subplots(1, 1)  \n",
    "\n",
    "weekday_group = df.groupby(by=\"weekday\")\n",
    "weekday_dist = weekday_group[\"distance\"].mean() \n",
    "weekday_dist.plot(kind=\"bar\", ax=ax)\n",
    "plt.title(\"Average Distance by Weekdays\")\n",
    "plt.show()"
   ]
  },
  {
   "cell_type": "code",
   "execution_count": 45,
   "metadata": {
    "scrolled": true
   },
   "outputs": [
    {
     "data": {
      "image/png": "[encoded data removed]",
      "text/plain": [
       "<Figure size 864x432 with 1 Axes>"
      ]
     },
     "metadata": {},
     "output_type": "display_data"
    }
   ],
   "source": [
    "test = \"distance\"\n",
    "#extracting and plotting the days vs distances\n",
    "mday = df[df[\"weekday\"] == \"Monday\"][test]\n",
    "tuday = df[df[\"weekday\"] == \"Tuesday\"][test] \n",
    "wedday = df[df[\"weekday\"] == \"Wednesday\"][test]                                                   \n",
    "thuday = df[df[\"weekday\"] == \"Thursday\"][test]\n",
    "friday = df[df[\"weekday\"] == \"Friday\"][test] \n",
    "satday = df[df[\"weekday\"] == \"Saturday\"][test] \n",
    "sday = df[df[\"weekday\"] == \"Sunday\"][test] \n",
    "\n",
    "\n",
    "\n",
    "fig, ax = plt.subplots(1,1,figsize=(12,6)) \n",
    "\n",
    "sns.kdeplot(mday, shade=True, label=\"day_1\", ax=ax, color=\"m\")\n",
    "sns.kdeplot(tuday, shade=True, label=\"day_2\", ax=ax, color=\"y\")\n",
    "sns.kdeplot(wedday, shade=True, label=\"day_3\", ax=ax, color=\"g\")\n",
    "sns.kdeplot(thuday, shade=True, label=\"day_4\", ax=ax, color=\"k\")\n",
    "sns.kdeplot(friday, shade=True, label=\"day_5\", ax=ax, color=\"r\")\n",
    "sns.kdeplot(satday, shade=True, label=\"day_6\", ax=ax, color=\"b\")\n",
    "sns.kdeplot(sday, shade=True, label=\"day_7\", ax=ax, color=\"c\")\n",
    "plt.title(\"Distance Distributions\")\n",
    "plt.show()"
   ]
  },
  {
   "cell_type": "code",
   "execution_count": 44,
   "metadata": {},
   "outputs": [
    {
     "data": {
      "text/plain": [
       "F_onewayResult(statistic=25.93463945320299, pvalue=5.289681900616254e-31)"
      ]
     },
     "execution_count": 44,
     "metadata": {},
     "output_type": "execute_result"
    }
   ],
   "source": [
    "stats.f_oneway(day_1, day_2, day_3, day_4, day_5, day_6, day_7) \n",
    "#doing the test"
   ]
  },
  {
   "cell_type": "code",
   "execution_count": null,
   "metadata": {},
   "outputs": [],
   "source": [
    "#as we can see, p value is smaller than 0.05, so this hypothesis is accepted. distance has no relation with\n",
    "# weekdays."
   ]
  }
 ],
 "metadata": {
  "kernelspec": {
   "display_name": "Python 3",
   "language": "python",
   "name": "python3"
  },
  "language_info": {
   "codemirror_mode": {
    "name": "ipython",
    "version": 3
   },
   "file_extension": ".py",
   "mimetype": "text/x-python",
   "name": "python",
   "nbconvert_exporter": "python",
   "pygments_lexer": "ipython3",
   "version": "3.7.1"
  }
 },
 "nbformat": 4,
 "nbformat_minor": 2
}
